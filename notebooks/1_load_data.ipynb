{
 "cells": [
  {
   "cell_type": "code",
   "execution_count": 3,
   "metadata": {},
   "outputs": [
    {
     "name": "stdout",
     "output_type": "stream",
     "text": [
      "Downloading ES=F...\n",
      "Saved ES=F data to data/ES=F.csv\n",
      "Downloading NQ=F...\n",
      "Saved NQ=F data to data/NQ=F.csv\n",
      "Merged dataset saved to data/merged.csv\n"
     ]
    },
    {
     "name": "stderr",
     "output_type": "stream",
     "text": [
      "/Users/honorea/Desktop/Quant-Projects/futures_mean_reversion/notebooks/../src/load_data.py:7: FutureWarning: YF.download() has changed argument auto_adjust default to True\n",
      "  df = yf.download(symbol, start=start, end=end, progress=False)\n",
      "/Users/honorea/Desktop/Quant-Projects/futures_mean_reversion/notebooks/../src/load_data.py:7: FutureWarning: YF.download() has changed argument auto_adjust default to True\n",
      "  df = yf.download(symbol, start=start, end=end, progress=False)\n"
     ]
    }
   ],
   "source": [
    "import sys\n",
    "sys.path.append(\"../src\")\n",
    "\n",
    "from load_data import load_and_merge\n",
    "\n",
    "symbols = [\"ES=F\", \"NQ=F\"]\n",
    "start = \"2021-01-01\"\n",
    "end = \"2025-07-22\"\n",
    "\n",
    "\n",
    "df = load_and_merge(symbols, start=start, end=end)\n",
    "\n",
    "# Save clean CSV without duplicate headers\n",
    "df.to_csv(\"../data/merged.csv\", index=True)\n"
   ]
  },
  {
   "cell_type": "code",
   "execution_count": null,
   "metadata": {},
   "outputs": [],
   "source": []
  },
  {
   "cell_type": "code",
   "execution_count": null,
   "metadata": {},
   "outputs": [],
   "source": []
  }
 ],
 "metadata": {
  "kernelspec": {
   "display_name": "Python 3 (ipykernel)",
   "language": "python",
   "name": "python3"
  },
  "language_info": {
   "codemirror_mode": {
    "name": "ipython",
    "version": 3
   },
   "file_extension": ".py",
   "mimetype": "text/x-python",
   "name": "python",
   "nbconvert_exporter": "python",
   "pygments_lexer": "ipython3",
   "version": "3.10.5"
  }
 },
 "nbformat": 4,
 "nbformat_minor": 4
}
