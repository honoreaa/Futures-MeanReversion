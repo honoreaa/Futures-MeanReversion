{
 "cells": [
  {
   "cell_type": "code",
   "execution_count": 26,
   "metadata": {},
   "outputs": [],
   "source": [
    "import pandas as pd\n",
    "import numpy as np\n",
    "import matplotlib.pyplot as plt"
   ]
  },
  {
   "cell_type": "code",
   "execution_count": 27,
   "metadata": {},
   "outputs": [
    {
     "name": "stdout",
     "output_type": "stream",
     "text": [
      "Loaded and cleaned prices:\n",
      "               ES=F     NQ=F\n",
      "Price                       \n",
      "2015-01-02  2046.25  4214.25\n",
      "2015-01-05  2016.00  4161.75\n",
      "2015-01-06  1994.50  4102.25\n",
      "2015-01-07  2019.50  4151.50\n",
      "2015-01-08  2055.00  4232.25\n"
     ]
    },
    {
     "name": "stderr",
     "output_type": "stream",
     "text": [
      "/var/folders/jb/pk23bkyn13b2jj0ptqjmbskr0000gn/T/ipykernel_12172/1333429786.py:2: UserWarning: Could not infer format, so each element will be parsed individually, falling back to `dateutil`. To ensure parsing is consistent and as-expected, please specify a format.\n",
      "  df = pd.read_csv(\"../data/merged.csv\", index_col=0, parse_dates=True)\n"
     ]
    }
   ],
   "source": [
    "# Load prices\n",
    "df = pd.read_csv(\"../data/merged.csv\", index_col=0, parse_dates=True)\n",
    "\n",
    "# Make sure all columns are numeric\n",
    "for col in df.columns:\n",
    "    df[col] = pd.to_numeric(df[col], errors=\"coerce\")\n",
    "\n",
    "# Drop any rows with NaNs\n",
    "df = df.dropna()\n",
    "\n",
    "print(\"Loaded and cleaned prices:\")\n",
    "print(df.head())"
   ]
  },
  {
   "cell_type": "code",
   "execution_count": 28,
   "metadata": {},
   "outputs": [],
   "source": [
    "# Load signals\n",
    "signals = pd.read_csv(\"../outputs/signals.csv\", index_col=0, parse_dates=True)\n",
    "signals = signals.squeeze()  # Convert DataFrame to Series if needed\n",
    "\n",
    "# Confirm alignment\n",
    "signals = signals.loc[df.index]\n",
    "\n",
    "# Parameters\n",
    "beta = 1.1  # Use your estimated hedge ratio\n",
    "capital = 100000  # starting capital in dollars\n",
    "position_size = 1  # Number of contracts (or units) per trade"
   ]
  },
  {
   "cell_type": "code",
   "execution_count": 29,
   "metadata": {},
   "outputs": [],
   "source": [
    "# Compute spread\n",
    "spread = df[\"ES=F\"] - beta * df[\"NQ=F\"]\n",
    "\n",
    "# Compute spread returns\n",
    "spread_returns = spread.diff()"
   ]
  },
  {
   "cell_type": "code",
   "execution_count": 30,
   "metadata": {},
   "outputs": [],
   "source": [
    "# Create position series: signals lagged by 1 day\n",
    "positions = signals.shift(1).fillna(0)\n",
    "\n",
    "# Daily PnL\n",
    "daily_pnl = positions * spread_returns * position_size\n",
    "\n",
    "# Cumulative PnL\n",
    "cumulative_pnl = daily_pnl.cumsum() + capital"
   ]
  },
  {
   "cell_type": "code",
   "execution_count": 31,
   "metadata": {},
   "outputs": [
    {
     "data": {
      "image/png": "[encoded data removed]",
      "text/plain": [
       "<Figure size 1200x600 with 1 Axes>"
      ]
     },
     "metadata": {},
     "output_type": "display_data"
    }
   ],
   "source": [
    "# Plot cumulative PnL\n",
    "plt.figure(figsize=(12,6))\n",
    "plt.plot(cumulative_pnl, label=\"Cumulative PnL\")\n",
    "plt.title(\"Backtest of Mean Reversion Strategy\")\n",
    "plt.xlabel(\"Date\")\n",
    "plt.ylabel(\"Portfolio Value ($)\")\n",
    "plt.legend()\n",
    "plt.grid(True)\n",
    "plt.tight_layout()\n",
    "plt.show()"
   ]
  },
  {
   "cell_type": "code",
   "execution_count": 32,
   "metadata": {},
   "outputs": [
    {
     "name": "stdout",
     "output_type": "stream",
     "text": [
      "Total return: $nan\n",
      "Annualized return: $nan\n",
      "Annualized volatility: $nan\n"
     ]
    }
   ],
   "source": [
    "total_return = cumulative_pnl.iloc[-1] - capital\n",
    "annualized_return = total_return / (len(cumulative_pnl) / 252)\n",
    "annualized_vol = daily_pnl.std() * np.sqrt(252)\n",
    "\n",
    "print(f\"Total return: ${total_return:,.2f}\")\n",
    "print(f\"Annualized return: ${annualized_return:,.2f}\")\n",
    "print(f\"Annualized volatility: ${annualized_vol:,.2f}\")"
   ]
  },
  {
   "cell_type": "code",
   "execution_count": null,
   "metadata": {},
   "outputs": [],
   "source": []
  },
  {
   "cell_type": "code",
   "execution_count": null,
   "metadata": {},
   "outputs": [],
   "source": []
  },
  {
   "cell_type": "code",
   "execution_count": null,
   "metadata": {},
   "outputs": [],
   "source": []
  },
  {
   "cell_type": "code",
   "execution_count": null,
   "metadata": {},
   "outputs": [],
   "source": []
  },
  {
   "cell_type": "code",
   "execution_count": null,
   "metadata": {},
   "outputs": [],
   "source": []
  }
 ],
 "metadata": {
  "kernelspec": {
   "display_name": "Python 3 (ipykernel)",
   "language": "python",
   "name": "python3"
  },
  "language_info": {
   "codemirror_mode": {
    "name": "ipython",
    "version": 3
   },
   "file_extension": ".py",
   "mimetype": "text/x-python",
   "name": "python",
   "nbconvert_exporter": "python",
   "pygments_lexer": "ipython3",
   "version": "3.10.5"
  }
 },
 "nbformat": 4,
 "nbformat_minor": 4
}
